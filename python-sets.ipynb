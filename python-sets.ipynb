{
 "cells": [
  {
   "cell_type": "code",
   "execution_count": 15,
   "id": "d1c1a338-8097-4e49-982a-17ab07d15090",
   "metadata": {},
   "outputs": [],
   "source": [
    "# README\n",
    "# SET MERUPAKAN TIPE DATA UNTUK MENYIMPAN BANYAK DATA (DAPAT BERUPA INT, STRING, BOOLEAN)\n",
    "# SET SELALU MENGGUNAKAN TANDA \"{}\"\n",
    "# SET TIDAK DAPAT DIAKSES BERDASARKAN INDEX ATAU KEY, NAMUN DAPAT DILOOPING\n",
    "# SET ITEM MEMILIKI KARAKTERISTIK TIDAK DAPAT DIUBAH, TIDAK BERURURATAN, TIDAK DAPAT DUPLIKAT\n",
    "# KUMPULAN METHOD SET\n",
    "# add, clear, copy, difference, difference_update, discard, intersection, intersection_update, isdisjoint, issubset, issuperset\n",
    "# pop, remove, symmetric_difference, symmetric_difference_update, union, update"
   ]
  },
  {
   "cell_type": "code",
   "execution_count": 21,
   "id": "8827e820-8f6f-4e73-873f-3fbd3c3bb29c",
   "metadata": {},
   "outputs": [
    {
     "name": "stdout",
     "output_type": "stream",
     "text": [
      "{'apple', 'cherry', 'banana'}\n"
     ]
    }
   ],
   "source": [
    "# SET TIDAK AKAN BERURUTAN\n",
    "thisset = {\"apple\", \"banana\", \"cherry\"}\n",
    "print(thisset)"
   ]
  },
  {
   "cell_type": "code",
   "execution_count": 23,
   "id": "c570bff9-6209-47e9-bdd1-d506540a2570",
   "metadata": {},
   "outputs": [
    {
     "name": "stdout",
     "output_type": "stream",
     "text": [
      "{'apple', 'cherry', 'banana'}\n"
     ]
    }
   ],
   "source": [
    "# SET HANYA AKAN MENGAMBIL DATA SATU SAJA JIKA DIDAPATI DUPLIKAT\n",
    "thisset = {\"apple\", \"banana\", \"cherry\", \"cherry\"}\n",
    "print(thisset)"
   ]
  },
  {
   "cell_type": "code",
   "execution_count": 27,
   "id": "8f2b710c-1d1a-4de9-a18c-0a6fad935237",
   "metadata": {},
   "outputs": [
    {
     "name": "stdout",
     "output_type": "stream",
     "text": [
      "{'apple', 2, True, 'cherry', 'banana'}\n"
     ]
    }
   ],
   "source": [
    "# NILAI TRUE DAN 1 AKAN DIANGGAP SAMA\n",
    "thisset = {\"apple\", \"banana\", \"cherry\", True, 1, 2}\n",
    "print(thisset)"
   ]
  },
  {
   "cell_type": "code",
   "execution_count": 29,
   "id": "b612679e-e964-4484-b5b0-3c23aaa3ecc8",
   "metadata": {},
   "outputs": [
    {
     "name": "stdout",
     "output_type": "stream",
     "text": [
      "{False, 'apple', 'cherry', True}\n"
     ]
    }
   ],
   "source": [
    "# NILAI FALSE DAN 0 AKAN DIANGGAP SAMA\n",
    "thisset = {\"apple\", \"cherry\", True, False, 0}\n",
    "print(thisset)"
   ]
  },
  {
   "cell_type": "code",
   "execution_count": 33,
   "id": "77e887c9-4a70-4f05-b05d-637344cd3a08",
   "metadata": {},
   "outputs": [
    {
     "name": "stdout",
     "output_type": "stream",
     "text": [
      "4\n"
     ]
    }
   ],
   "source": [
    "# MENGETAHUI PANJANG SET\n",
    "thisset = {\"apple\", \"cherry\", \"banana\", \"mango\", \"mango\"} # MESKIPUN TERDAPAT 5 DATA, DATA DUPLIKAT TETAP DIHTIUNG SEBANYAK 1 SAJA\n",
    "print(len(thisset))"
   ]
  },
  {
   "cell_type": "code",
   "execution_count": 44,
   "id": "5f315a22-3e30-4a35-bf00-3f5ec33dab3a",
   "metadata": {},
   "outputs": [
    {
     "name": "stdout",
     "output_type": "stream",
     "text": [
      "{False, True} {'C', 'B', 'A'} {1, 2, 3}\n",
      "<class 'set'>\n"
     ]
    }
   ],
   "source": [
    "# CONTOH TIPE DATA YANG DITAMPUNG DI SET\n",
    "set1 = {True, False}\n",
    "set2 = {\"A\", \"B\", \"C\"}\n",
    "set3 = {1, 2, 3}\n",
    "print(set1, set2, set3)\n",
    "print(type(set1))"
   ]
  },
  {
   "cell_type": "code",
   "execution_count": 49,
   "id": "21e767b5-0353-4b5b-bd11-6413b26aed37",
   "metadata": {},
   "outputs": [
    {
     "name": "stdout",
     "output_type": "stream",
     "text": [
      "{'A'}\n"
     ]
    }
   ],
   "source": [
    "# MEMBUAT VARIABEL YANG BERISI TIPE DATA SET\n",
    "thisset = set(\"A\")\n",
    "print(thisset)"
   ]
  },
  {
   "cell_type": "code",
   "execution_count": 52,
   "id": "7dd46b6c-a669-4a48-ae74-82be622cc5b2",
   "metadata": {},
   "outputs": [
    {
     "name": "stdout",
     "output_type": "stream",
     "text": [
      "apple\n",
      "cherry\n",
      "banana\n"
     ]
    }
   ],
   "source": [
    "# PERULANGAN/LOOPING PADA SET\n",
    "thisset = {\"apple\", \"banana\", \"cherry\"}\n",
    "for x in thisset:\n",
    "    print(x)"
   ]
  },
  {
   "cell_type": "code",
   "execution_count": 59,
   "id": "1cf20742-0d69-4a77-879e-400645decb83",
   "metadata": {},
   "outputs": [
    {
     "name": "stdout",
     "output_type": "stream",
     "text": [
      "True\n",
      "False\n",
      "False\n",
      "Banana ada di dalam set\n"
     ]
    }
   ],
   "source": [
    "# PENGECEKAN TERHADAP KEBERADAAN NILAI DALAM SEBUAH SET\n",
    "# DAPAT MENGGUNAKAN STATEMENT IN DAN NOT IN\n",
    "thisset = {\"apple\", \"banana\", \"cherry\"}\n",
    "print(\"banana\" in thisset)\n",
    "print(\"banana\" not in thisset)\n",
    "print(\"mango\" in thisset)\n",
    "\n",
    "if \"banana\" in thisset:\n",
    "    print(\"Banana ada di dalam set\")"
   ]
  },
  {
   "cell_type": "code",
   "execution_count": 60,
   "id": "1a16c68c-deee-4aa9-81b2-05e710035bb5",
   "metadata": {},
   "outputs": [
    {
     "name": "stdout",
     "output_type": "stream",
     "text": [
      "{'apple', 'cherry', 'mango', 'banana'}\n"
     ]
    }
   ],
   "source": [
    "# MENAMBAHKAN DATA PADA SET\n",
    "thisset = {\"apple\", \"banana\", \"cherry\"}\n",
    "thisset.add(\"mango\")\n",
    "print(thisset)"
   ]
  },
  {
   "cell_type": "code",
   "execution_count": 66,
   "id": "c08e6a38-cf8f-4b50-b283-b86a11f0cc12",
   "metadata": {},
   "outputs": [
    {
     "name": "stdout",
     "output_type": "stream",
     "text": [
      "{'pineapple', 'apple', 'papaya', 'cherry', 'mango', 'banana'}\n",
      "{'pineapple', 'apple', 'papaya', 'rasbery', 'coconut', 'cherry', 'mango', 'banana'}\n"
     ]
    }
   ],
   "source": [
    "# MENAMBAHKAN DATA PADA SET DALAM JUMLAH BANYAK GUNAKAN METHOD UPDATE\n",
    "# UPDATE PADA SET DAPAT JUGA MERUPAKAN TIPE DATA LAIN, MISAL TUPLE\n",
    "set1 = {\"apple\", \"banana\", \"cherry\"}\n",
    "set2 = {\"pineapple\", \"mango\", \"papaya\"}\n",
    "set1.update(set2)\n",
    "print(set1)\n",
    "\n",
    "set3 = [\"coconut\", \"rasbery\"]\n",
    "set1.update(set3)\n",
    "print(set1)"
   ]
  },
  {
   "cell_type": "code",
   "execution_count": 91,
   "id": "ce3414a0-cd83-4f4c-b36f-35a2eca40ad1",
   "metadata": {},
   "outputs": [
    {
     "name": "stdout",
     "output_type": "stream",
     "text": [
      "{'cherry'}\n"
     ]
    }
   ],
   "source": [
    "# MENGHAPUS DATA PADA SET DAPAT MENGGUNAKAN REMOVE DAN DISCARD\n",
    "# JIKA DATA YANG AKAN DIHAPUS TIDAK DITEMUKAN, DISCARD TIDAK MENAMPILKAN ERROR, SEDANGKAN REMOVE AKAN MENAMPILKAN ERROR\n",
    "# POP AKAN MENGHAPUS SECARA RANDOM\n",
    "set1 = {\"apple\", \"banana\", \"cherry\"}\n",
    "set1.remove(\"banana\")\n",
    "set1.discard(\"apple\")\n",
    "# set1.pop()\n",
    "# set1.clear() # MEMBERSIHKAN SET\n",
    "# del set1 # MENGHAPUS SET\n",
    "print(set1)"
   ]
  },
  {
   "cell_type": "code",
   "execution_count": 2,
   "id": "75437256-a215-4b10-b5b0-8d825119ea0a",
   "metadata": {},
   "outputs": [
    {
     "name": "stdout",
     "output_type": "stream",
     "text": [
      "{1, 2, 3, 'c', 'e', 'a', 'd', 'f', 'b'}\n",
      "{1, 2, 3, 'z', 'y', 'x'}\n"
     ]
    }
   ],
   "source": [
    "# MENGGABUNGKAN SET MENGGUNAKAN METHOD UNION ATAU \"|\"\n",
    "set1 = {\"a\", \"b\", \"c\"}\n",
    "set2 = {1, 2, 3}\n",
    "set3 = {\"d\", \"e\", \"f\"}\n",
    "set4 = set1.union(set2, set3)\n",
    "set3 = set1 | set2 | set3\n",
    "print(set4)\n",
    "\n",
    "set5 = {\"x\", \"y\", \"z\"}\n",
    "set6 = [3, 2, 1]\n",
    "set7 = set5.union(set6) # HANYA DAPAT DILAKUKAN DARI SET KE TUPLE, SEBALIKNYA TIDAK BISA\n",
    "print(set7)"
   ]
  },
  {
   "cell_type": "code",
   "execution_count": 3,
   "id": "e066dedc-ba44-40cd-81bc-ac4f8604195d",
   "metadata": {},
   "outputs": [
    {
     "name": "stdout",
     "output_type": "stream",
     "text": [
      "{'b', 'a'}\n"
     ]
    }
   ],
   "source": [
    "# MENGGABUNGKAN UNTUK MENCARI NILAI YANG SAMA\n",
    "set1 = {\"a\", \"b\", \"c\"}\n",
    "set2 = {\"a\", \"b\", \"f\"}\n",
    "set3 = set1.intersection(set2)\n",
    "# set3 = set1 & set2\n",
    "print(set3)"
   ]
  },
  {
   "cell_type": "code",
   "execution_count": 128,
   "id": "fdc8ca83-a90a-43d5-877d-cdb207ed6731",
   "metadata": {},
   "outputs": [
    {
     "name": "stdout",
     "output_type": "stream",
     "text": [
      "{'a'}\n"
     ]
    }
   ],
   "source": [
    "# MELAKUKAN UPDATE, NAMUN BERDASARKAN DATA YANG SAMA\n",
    "set1 = {\"a\", \"b\", \"c\"}\n",
    "set2 = {\"a\", \"e\", \"f\"}\n",
    "set1.intersection_update(set2)\n",
    "print(set1)"
   ]
  },
  {
   "cell_type": "code",
   "execution_count": 5,
   "id": "4eb76bfa-9e23-4949-ac51-9df3d6f7379d",
   "metadata": {},
   "outputs": [
    {
     "name": "stdout",
     "output_type": "stream",
     "text": [
      "{'f', 'e'}\n"
     ]
    }
   ],
   "source": [
    "# MENCARI PERBEDAAN PADA DUA SET\n",
    "set1 = {\"a\", \"b\", \"c\"}\n",
    "set2 = {\"a\", \"e\", \"f\"}\n",
    "set3 = set2.difference(set1)\n",
    "# set3 = set1 - set2\n",
    "print(set3)"
   ]
  },
  {
   "cell_type": "code",
   "execution_count": 129,
   "id": "5d64248a-0afe-421a-9838-03e1ef203586",
   "metadata": {},
   "outputs": [
    {
     "name": "stdout",
     "output_type": "stream",
     "text": [
      "{'b', 'c'}\n"
     ]
    }
   ],
   "source": [
    "# MELAKUKAN UPDATE, BERDASARKAN DATA YANG BERBEDA\n",
    "set1 = {\"a\", \"b\", \"c\"}\n",
    "set2 = {\"a\", \"e\", \"f\"}\n",
    "set1.difference_update(set2)\n",
    "print(set1)"
   ]
  },
  {
   "cell_type": "code",
   "execution_count": 132,
   "id": "a3922561-530e-4871-b2e6-090b9db0375f",
   "metadata": {},
   "outputs": [
    {
     "name": "stdout",
     "output_type": "stream",
     "text": [
      "{'c', 'b', 'e', 'f'}\n"
     ]
    }
   ],
   "source": [
    "# MENYIMPAN DATA YANG TIDAK ADA PADA KEDUA SET\n",
    "set1 = {\"a\", \"b\", \"c\"}\n",
    "set2 = {\"a\", \"e\", \"f\"}\n",
    "set3 = set1.symmetric_difference(set2)\n",
    "# set3 = set1 ^ set2\n",
    "print(set3)"
   ]
  },
  {
   "cell_type": "code",
   "execution_count": 133,
   "id": "7cb7f912-87fa-403d-bb6d-8699eb19f44f",
   "metadata": {},
   "outputs": [
    {
     "name": "stdout",
     "output_type": "stream",
     "text": [
      "{'c', 'b', 'e', 'f'}\n"
     ]
    }
   ],
   "source": [
    "# MENGUPDATE DATA YANG TIDAK ADA PADA KEDUA SET PADA SALAH SATU SET\n",
    "set1 = {\"a\", \"b\", \"c\"}\n",
    "set2 = {\"a\", \"e\", \"f\"}\n",
    "set1.symmetric_difference_update(set2)\n",
    "print(set1)"
   ]
  },
  {
   "cell_type": "code",
   "execution_count": 192,
   "id": "d967f9a3-8f1e-40c7-a6f2-9ac373052024",
   "metadata": {},
   "outputs": [
    {
     "name": "stdin",
     "output_type": "stream",
     "text": [
      "Masukkan himpunan pertama: makanan, 1, 2, 3\n",
      "Masukkan himpunan kedua: minuman, 1, 2, 3\n"
     ]
    },
    {
     "name": "stdout",
     "output_type": "stream",
     "text": [
      "Berikut adalah elemen yang ada dikedua himpunan:  {'3', '2,', '1,'}\n",
      "Berikut adalah elemen yang hanya ada di himpunan pertemuan:  {'makanan,'}\n",
      "Berikut adalah gabungan dari kedua himpunan:  {'3', 'makanan,', '1,', 'minuman,', '2,'}\n"
     ]
    }
   ],
   "source": [
    "# LATIHAN\n",
    "set1 = (input(\"Masukkan himpunan pertama:\"))\n",
    "set2 = (input(\"Masukkan himpunan kedua:\"))\n",
    "set1 = set(set1.split(\" \"))\n",
    "set2 = set(set2.split(\" \"))\n",
    "set_intersection = set1.intersection(set2)\n",
    "set_difference = set1.difference(set2)\n",
    "set_union = set1.union(set2)\n",
    "print(f\"Berikut adalah elemen yang ada di kedua himpunan: \", set_intersection)\n",
    "print(f\"Berikut adalah elemen yang hanya ada di himpunan pertama: \", set_difference)\n",
    "print(f\"Berikut adalah gabungan dari kedua himpunan: \", set_union)"
   ]
  },
  {
   "cell_type": "code",
   "execution_count": 202,
   "id": "9c82bf3b-5ee3-4a05-8bf1-419285a54a56",
   "metadata": {},
   "outputs": [
    {
     "name": "stdin",
     "output_type": "stream",
     "text": [
      "Masukkan Data Siswa Kelas Python   :  ahmad, tia, pelisa\n",
      "Masukkan Data Siswa Kelas Java     :  ahmad, tia, mamat\n"
     ]
    },
    {
     "name": "stdout",
     "output_type": "stream",
     "text": [
      "Yang Mengikuti Kelas Python     :  {'pelisa', 'tia,', 'ahmad,'}\n",
      "Yang Mengikuti Kedua Kelas      :  {'tia,', 'ahmad,'}\n",
      "Yang Mengikuti Kelas Satu Kelas :  {'tia,', 'pelisa', 'ahmad,', 'mamat'}\n",
      "Yang Mengikuti Kelas Java       :  {'tia,', 'ahmad,', 'mamat'}\n"
     ]
    }
   ],
   "source": [
    "# LATIHAN\n",
    "# kelasPython = [\"Ahmad\", \"Agus\", \"Silvia\", \"Rachel\", \"Jason\", \"Hendra\"]\n",
    "# kelasJava = [\"Jason\", \"Bela\", \"Asep\", \"Herman\", \"Andromeda\", \"Silvia\"]\n",
    "\n",
    "kelasPython  = (input(\"Masukkan Data Siswa Kelas Python   : \"))\n",
    "kelasJava    = (input(\"Masukkan Data Siswa Kelas Java     : \"))\n",
    "kelasPython  = kelasPython.split(\" \")\n",
    "kelasJava    = kelasJava.split(\" \")\n",
    "kelasPython  = set(kelasPython)\n",
    "kelasJava    = set(kelasJava)\n",
    "\n",
    "duaKelas  = kelasPython.intersection(kelasJava)\n",
    "satuKelas = kelasPython.union(kelasJava)\n",
    "\n",
    "print(f\"Yang Mengikuti Kelas Python     : \", kelasPython)\n",
    "print(f\"Yang Mengikuti Kedua Kelas      : \", duaKelas)\n",
    "print(f\"Yang Mengikuti Kelas Satu Kelas : \", satuKelas)\n",
    "print(f\"Yang Mengikuti Kelas Java       : \", kelasJava)"
   ]
  },
  {
   "cell_type": "code",
   "execution_count": null,
   "id": "0c295e6c-cfe0-4af0-be89-7a14f5804814",
   "metadata": {},
   "outputs": [],
   "source": []
  }
 ],
 "metadata": {
  "kernelspec": {
   "display_name": "Python 3 (ipykernel)",
   "language": "python",
   "name": "python3"
  },
  "language_info": {
   "codemirror_mode": {
    "name": "ipython",
    "version": 3
   },
   "file_extension": ".py",
   "mimetype": "text/x-python",
   "name": "python",
   "nbconvert_exporter": "python",
   "pygments_lexer": "ipython3",
   "version": "3.8.10"
  }
 },
 "nbformat": 4,
 "nbformat_minor": 5
}
